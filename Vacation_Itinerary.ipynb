{
 "cells": [
  {
   "cell_type": "code",
   "execution_count": 10,
   "metadata": {},
   "outputs": [],
   "source": [
    "# Import dependencies:\n",
    "import pandas as pd\n",
    "import requests\n",
    "\n",
    "# Import from Google Maps:\n",
    "import gmaps\n",
    "import gmaps.datasets\n",
    "\n",
    "# Import the API key:\n",
    "from config import g_key"
   ]
  },
  {
   "cell_type": "code",
   "execution_count": 11,
   "metadata": {},
   "outputs": [
    {
     "data": {
      "text/html": [
       "<div>\n",
       "<style scoped>\n",
       "    .dataframe tbody tr th:only-of-type {\n",
       "        vertical-align: middle;\n",
       "    }\n",
       "\n",
       "    .dataframe tbody tr th {\n",
       "        vertical-align: top;\n",
       "    }\n",
       "\n",
       "    .dataframe thead th {\n",
       "        text-align: right;\n",
       "    }\n",
       "</style>\n",
       "<table border=\"1\" class=\"dataframe\">\n",
       "  <thead>\n",
       "    <tr style=\"text-align: right;\">\n",
       "      <th></th>\n",
       "      <th>City</th>\n",
       "      <th>Country</th>\n",
       "      <th>Max Temp</th>\n",
       "      <th>Current Description</th>\n",
       "      <th>Lat</th>\n",
       "      <th>Lng</th>\n",
       "      <th>Hotel Name</th>\n",
       "    </tr>\n",
       "  </thead>\n",
       "  <tbody>\n",
       "    <tr>\n",
       "      <th>0</th>\n",
       "      <td>Meulaboh</td>\n",
       "      <td>ID</td>\n",
       "      <td>77.88</td>\n",
       "      <td>light rain</td>\n",
       "      <td>4.14</td>\n",
       "      <td>96.13</td>\n",
       "      <td>Kost Pria</td>\n",
       "    </tr>\n",
       "    <tr>\n",
       "      <th>1</th>\n",
       "      <td>Mishan</td>\n",
       "      <td>CN</td>\n",
       "      <td>55.36</td>\n",
       "      <td>light rain</td>\n",
       "      <td>45.55</td>\n",
       "      <td>131.88</td>\n",
       "      <td>Mishan Hotel</td>\n",
       "    </tr>\n",
       "    <tr>\n",
       "      <th>2</th>\n",
       "      <td>Siniscola</td>\n",
       "      <td>IT</td>\n",
       "      <td>60.28</td>\n",
       "      <td>light rain</td>\n",
       "      <td>40.57</td>\n",
       "      <td>9.69</td>\n",
       "      <td>Hotel Velasole</td>\n",
       "    </tr>\n",
       "    <tr>\n",
       "      <th>3</th>\n",
       "      <td>Moyale</td>\n",
       "      <td>KE</td>\n",
       "      <td>66.36</td>\n",
       "      <td>light rain</td>\n",
       "      <td>3.52</td>\n",
       "      <td>39.06</td>\n",
       "      <td>BISMILLAHI HOTEL</td>\n",
       "    </tr>\n",
       "    <tr>\n",
       "      <th>4</th>\n",
       "      <td>Banda Aceh</td>\n",
       "      <td>ID</td>\n",
       "      <td>79.25</td>\n",
       "      <td>light rain</td>\n",
       "      <td>5.56</td>\n",
       "      <td>95.32</td>\n",
       "      <td>OYO 884 Rumoh PMI Hotel</td>\n",
       "    </tr>\n",
       "  </tbody>\n",
       "</table>\n",
       "</div>"
      ],
      "text/plain": [
       "         City Country  Max Temp Current Description    Lat     Lng  \\\n",
       "0    Meulaboh      ID     77.88          light rain   4.14   96.13   \n",
       "1      Mishan      CN     55.36          light rain  45.55  131.88   \n",
       "2   Siniscola      IT     60.28          light rain  40.57    9.69   \n",
       "3      Moyale      KE     66.36          light rain   3.52   39.06   \n",
       "4  Banda Aceh      ID     79.25          light rain   5.56   95.32   \n",
       "\n",
       "                Hotel Name  \n",
       "0                Kost Pria  \n",
       "1             Mishan Hotel  \n",
       "2           Hotel Velasole  \n",
       "3         BISMILLAHI HOTEL  \n",
       "4  OYO 884 Rumoh PMI Hotel  "
      ]
     },
     "execution_count": 11,
     "metadata": {},
     "output_type": "execute_result"
    }
   ],
   "source": [
    "# Import CSV as new DataFrame:\n",
    "data_to_load = \"WeatherPy_vacation.csv\"\n",
    "\n",
    "directions_data_df = pd.read_csv(data_to_load)\n",
    "directions_data_df.head()"
   ]
  },
  {
   "cell_type": "code",
   "execution_count": 12,
   "metadata": {},
   "outputs": [
    {
     "data": {
      "text/html": [
       "<div>\n",
       "<style scoped>\n",
       "    .dataframe tbody tr th:only-of-type {\n",
       "        vertical-align: middle;\n",
       "    }\n",
       "\n",
       "    .dataframe tbody tr th {\n",
       "        vertical-align: top;\n",
       "    }\n",
       "\n",
       "    .dataframe thead th {\n",
       "        text-align: right;\n",
       "    }\n",
       "</style>\n",
       "<table border=\"1\" class=\"dataframe\">\n",
       "  <thead>\n",
       "    <tr style=\"text-align: right;\">\n",
       "      <th></th>\n",
       "      <th>City</th>\n",
       "      <th>Country</th>\n",
       "      <th>Max Temp</th>\n",
       "      <th>Current Description</th>\n",
       "      <th>Lat</th>\n",
       "      <th>Lng</th>\n",
       "      <th>Hotel Name</th>\n",
       "    </tr>\n",
       "  </thead>\n",
       "  <tbody>\n",
       "    <tr>\n",
       "      <th>33</th>\n",
       "      <td>Ciranjang</td>\n",
       "      <td>ID</td>\n",
       "      <td>72.0</td>\n",
       "      <td>light rain</td>\n",
       "      <td>-6.79</td>\n",
       "      <td>107.28</td>\n",
       "      <td>Iip sopandi</td>\n",
       "    </tr>\n",
       "  </tbody>\n",
       "</table>\n",
       "</div>"
      ],
      "text/plain": [
       "         City Country  Max Temp Current Description   Lat     Lng   Hotel Name\n",
       "33  Ciranjang      ID      72.0          light rain -6.79  107.28  Iip sopandi"
      ]
     },
     "execution_count": 12,
     "metadata": {},
     "output_type": "execute_result"
    }
   ],
   "source": [
    "# Selection #1 in new DataFrame - City = Ciranjang, Country = ID:\n",
    "city_1_df = directions_data_df.loc[directions_data_df['City'] == 'Ciranjang']\n",
    "city_1_df"
   ]
  },
  {
   "cell_type": "code",
   "execution_count": 13,
   "metadata": {},
   "outputs": [
    {
     "data": {
      "text/html": [
       "<div>\n",
       "<style scoped>\n",
       "    .dataframe tbody tr th:only-of-type {\n",
       "        vertical-align: middle;\n",
       "    }\n",
       "\n",
       "    .dataframe tbody tr th {\n",
       "        vertical-align: top;\n",
       "    }\n",
       "\n",
       "    .dataframe thead th {\n",
       "        text-align: right;\n",
       "    }\n",
       "</style>\n",
       "<table border=\"1\" class=\"dataframe\">\n",
       "  <thead>\n",
       "    <tr style=\"text-align: right;\">\n",
       "      <th></th>\n",
       "      <th>City</th>\n",
       "      <th>Country</th>\n",
       "      <th>Max Temp</th>\n",
       "      <th>Current Description</th>\n",
       "      <th>Lat</th>\n",
       "      <th>Lng</th>\n",
       "      <th>Hotel Name</th>\n",
       "    </tr>\n",
       "  </thead>\n",
       "  <tbody>\n",
       "    <tr>\n",
       "      <th>21</th>\n",
       "      <td>Bambanglipuro</td>\n",
       "      <td>ID</td>\n",
       "      <td>78.19</td>\n",
       "      <td>light rain</td>\n",
       "      <td>-7.95</td>\n",
       "      <td>110.28</td>\n",
       "      <td>Puri Brata</td>\n",
       "    </tr>\n",
       "  </tbody>\n",
       "</table>\n",
       "</div>"
      ],
      "text/plain": [
       "             City Country  Max Temp Current Description   Lat     Lng  \\\n",
       "21  Bambanglipuro      ID     78.19          light rain -7.95  110.28   \n",
       "\n",
       "    Hotel Name  \n",
       "21  Puri Brata  "
      ]
     },
     "execution_count": 13,
     "metadata": {},
     "output_type": "execute_result"
    }
   ],
   "source": [
    "# Selection #2 in new DataFrame - City = Bambanglipuro, Country = ID:\n",
    "city_2_df = directions_data_df.loc[directions_data_df['City'] == 'Bambanglipuro']\n",
    "city_2_df"
   ]
  },
  {
   "cell_type": "code",
   "execution_count": 14,
   "metadata": {},
   "outputs": [
    {
     "data": {
      "text/html": [
       "<div>\n",
       "<style scoped>\n",
       "    .dataframe tbody tr th:only-of-type {\n",
       "        vertical-align: middle;\n",
       "    }\n",
       "\n",
       "    .dataframe tbody tr th {\n",
       "        vertical-align: top;\n",
       "    }\n",
       "\n",
       "    .dataframe thead th {\n",
       "        text-align: right;\n",
       "    }\n",
       "</style>\n",
       "<table border=\"1\" class=\"dataframe\">\n",
       "  <thead>\n",
       "    <tr style=\"text-align: right;\">\n",
       "      <th></th>\n",
       "      <th>City</th>\n",
       "      <th>Country</th>\n",
       "      <th>Max Temp</th>\n",
       "      <th>Current Description</th>\n",
       "      <th>Lat</th>\n",
       "      <th>Lng</th>\n",
       "      <th>Hotel Name</th>\n",
       "    </tr>\n",
       "  </thead>\n",
       "  <tbody>\n",
       "    <tr>\n",
       "      <th>32</th>\n",
       "      <td>Boyolangu</td>\n",
       "      <td>ID</td>\n",
       "      <td>76.59</td>\n",
       "      <td>moderate rain</td>\n",
       "      <td>-8.12</td>\n",
       "      <td>111.89</td>\n",
       "      <td>Yos ega cv</td>\n",
       "    </tr>\n",
       "  </tbody>\n",
       "</table>\n",
       "</div>"
      ],
      "text/plain": [
       "         City Country  Max Temp Current Description   Lat     Lng  Hotel Name\n",
       "32  Boyolangu      ID     76.59       moderate rain -8.12  111.89  Yos ega cv"
      ]
     },
     "execution_count": 14,
     "metadata": {},
     "output_type": "execute_result"
    }
   ],
   "source": [
    "# Selection #3 in new DataFrame - City = Boyolangu, Country = ID:\n",
    "city_3_df = directions_data_df.loc[directions_data_df['City'] == 'Boyolangu']\n",
    "city_3_df"
   ]
  },
  {
   "cell_type": "code",
   "execution_count": 15,
   "metadata": {},
   "outputs": [
    {
     "data": {
      "text/html": [
       "<div>\n",
       "<style scoped>\n",
       "    .dataframe tbody tr th:only-of-type {\n",
       "        vertical-align: middle;\n",
       "    }\n",
       "\n",
       "    .dataframe tbody tr th {\n",
       "        vertical-align: top;\n",
       "    }\n",
       "\n",
       "    .dataframe thead th {\n",
       "        text-align: right;\n",
       "    }\n",
       "</style>\n",
       "<table border=\"1\" class=\"dataframe\">\n",
       "  <thead>\n",
       "    <tr style=\"text-align: right;\">\n",
       "      <th></th>\n",
       "      <th>City</th>\n",
       "      <th>Country</th>\n",
       "      <th>Max Temp</th>\n",
       "      <th>Current Description</th>\n",
       "      <th>Lat</th>\n",
       "      <th>Lng</th>\n",
       "      <th>Hotel Name</th>\n",
       "    </tr>\n",
       "  </thead>\n",
       "  <tbody>\n",
       "    <tr>\n",
       "      <th>23</th>\n",
       "      <td>Malang</td>\n",
       "      <td>ID</td>\n",
       "      <td>76.26</td>\n",
       "      <td>light rain</td>\n",
       "      <td>-7.98</td>\n",
       "      <td>112.63</td>\n",
       "      <td>Hotel Tugu Malang</td>\n",
       "    </tr>\n",
       "  </tbody>\n",
       "</table>\n",
       "</div>"
      ],
      "text/plain": [
       "      City Country  Max Temp Current Description   Lat     Lng  \\\n",
       "23  Malang      ID     76.26          light rain -7.98  112.63   \n",
       "\n",
       "           Hotel Name  \n",
       "23  Hotel Tugu Malang  "
      ]
     },
     "execution_count": 15,
     "metadata": {},
     "output_type": "execute_result"
    }
   ],
   "source": [
    "# Selection #4 in new DataFrame - City = Malang, Country = ID:\n",
    "city_4_df = directions_data_df.loc[directions_data_df['City'] == 'Malang']\n",
    "city_4_df"
   ]
  },
  {
   "cell_type": "code",
   "execution_count": 18,
   "metadata": {},
   "outputs": [
    {
     "data": {
      "text/html": [
       "<div>\n",
       "<style scoped>\n",
       "    .dataframe tbody tr th:only-of-type {\n",
       "        vertical-align: middle;\n",
       "    }\n",
       "\n",
       "    .dataframe tbody tr th {\n",
       "        vertical-align: top;\n",
       "    }\n",
       "\n",
       "    .dataframe thead th {\n",
       "        text-align: right;\n",
       "    }\n",
       "</style>\n",
       "<table border=\"1\" class=\"dataframe\">\n",
       "  <thead>\n",
       "    <tr style=\"text-align: right;\">\n",
       "      <th></th>\n",
       "      <th>City</th>\n",
       "      <th>Country</th>\n",
       "      <th>Max Temp</th>\n",
       "      <th>Current Description</th>\n",
       "      <th>Lat</th>\n",
       "      <th>Lng</th>\n",
       "      <th>Hotel Name</th>\n",
       "    </tr>\n",
       "  </thead>\n",
       "  <tbody>\n",
       "    <tr>\n",
       "      <th>33</th>\n",
       "      <td>Ciranjang</td>\n",
       "      <td>ID</td>\n",
       "      <td>72.00</td>\n",
       "      <td>light rain</td>\n",
       "      <td>-6.79</td>\n",
       "      <td>107.28</td>\n",
       "      <td>Iip sopandi</td>\n",
       "    </tr>\n",
       "    <tr>\n",
       "      <th>21</th>\n",
       "      <td>Bambanglipuro</td>\n",
       "      <td>ID</td>\n",
       "      <td>78.19</td>\n",
       "      <td>light rain</td>\n",
       "      <td>-7.95</td>\n",
       "      <td>110.28</td>\n",
       "      <td>Puri Brata</td>\n",
       "    </tr>\n",
       "    <tr>\n",
       "      <th>32</th>\n",
       "      <td>Boyolangu</td>\n",
       "      <td>ID</td>\n",
       "      <td>76.59</td>\n",
       "      <td>moderate rain</td>\n",
       "      <td>-8.12</td>\n",
       "      <td>111.89</td>\n",
       "      <td>Yos ega cv</td>\n",
       "    </tr>\n",
       "    <tr>\n",
       "      <th>23</th>\n",
       "      <td>Malang</td>\n",
       "      <td>ID</td>\n",
       "      <td>76.26</td>\n",
       "      <td>light rain</td>\n",
       "      <td>-7.98</td>\n",
       "      <td>112.63</td>\n",
       "      <td>Hotel Tugu Malang</td>\n",
       "    </tr>\n",
       "  </tbody>\n",
       "</table>\n",
       "</div>"
      ],
      "text/plain": [
       "             City Country  Max Temp Current Description   Lat     Lng  \\\n",
       "33      Ciranjang      ID     72.00          light rain -6.79  107.28   \n",
       "21  Bambanglipuro      ID     78.19          light rain -7.95  110.28   \n",
       "32      Boyolangu      ID     76.59       moderate rain -8.12  111.89   \n",
       "23         Malang      ID     76.26          light rain -7.98  112.63   \n",
       "\n",
       "           Hotel Name  \n",
       "33        Iip sopandi  \n",
       "21         Puri Brata  \n",
       "32         Yos ega cv  \n",
       "23  Hotel Tugu Malang  "
      ]
     },
     "execution_count": 18,
     "metadata": {},
     "output_type": "execute_result"
    }
   ],
   "source": [
    "# Put all 4 city DataFrames together into one: \n",
    "chosen_cities = pd.concat([city_1_df, city_2_df, city_3_df, city_4_df])\n",
    "chosen_cities"
   ]
  },
  {
   "cell_type": "code",
   "execution_count": 20,
   "metadata": {},
   "outputs": [
    {
     "data": {
      "text/html": [
       "<div>\n",
       "<style scoped>\n",
       "    .dataframe tbody tr th:only-of-type {\n",
       "        vertical-align: middle;\n",
       "    }\n",
       "\n",
       "    .dataframe tbody tr th {\n",
       "        vertical-align: top;\n",
       "    }\n",
       "\n",
       "    .dataframe thead th {\n",
       "        text-align: right;\n",
       "    }\n",
       "</style>\n",
       "<table border=\"1\" class=\"dataframe\">\n",
       "  <thead>\n",
       "    <tr style=\"text-align: right;\">\n",
       "      <th></th>\n",
       "      <th>City</th>\n",
       "      <th>Lat</th>\n",
       "      <th>Lng</th>\n",
       "    </tr>\n",
       "  </thead>\n",
       "  <tbody>\n",
       "    <tr>\n",
       "      <th>33</th>\n",
       "      <td>Ciranjang</td>\n",
       "      <td>-6.79</td>\n",
       "      <td>107.28</td>\n",
       "    </tr>\n",
       "    <tr>\n",
       "      <th>21</th>\n",
       "      <td>Bambanglipuro</td>\n",
       "      <td>-7.95</td>\n",
       "      <td>110.28</td>\n",
       "    </tr>\n",
       "    <tr>\n",
       "      <th>32</th>\n",
       "      <td>Boyolangu</td>\n",
       "      <td>-8.12</td>\n",
       "      <td>111.89</td>\n",
       "    </tr>\n",
       "    <tr>\n",
       "      <th>23</th>\n",
       "      <td>Malang</td>\n",
       "      <td>-7.98</td>\n",
       "      <td>112.63</td>\n",
       "    </tr>\n",
       "  </tbody>\n",
       "</table>\n",
       "</div>"
      ],
      "text/plain": [
       "             City   Lat     Lng\n",
       "33      Ciranjang -6.79  107.28\n",
       "21  Bambanglipuro -7.95  110.28\n",
       "32      Boyolangu -8.12  111.89\n",
       "23         Malang -7.98  112.63"
      ]
     },
     "execution_count": 20,
     "metadata": {},
     "output_type": "execute_result"
    }
   ],
   "source": [
    "# Filter the slected cities for the latitudes & longitudes:\n",
    "chosen_cities_locations = chosen_cities.loc[:,['City', 'Lat', 'Lng']]\n",
    "chosen_cities_locations"
   ]
  },
  {
   "cell_type": "code",
   "execution_count": 21,
   "metadata": {},
   "outputs": [],
   "source": [
    "# Configure gmaps to use your Google API key:\n",
    "gmaps.configure(api_key = g_key)"
   ]
  },
  {
   "cell_type": "code",
   "execution_count": 22,
   "metadata": {
    "scrolled": true
   },
   "outputs": [
    {
     "data": {
      "application/vnd.jupyter.widget-view+json": {
       "model_id": "247f3cb0ea9f4c4ca826430948ba6d97",
       "version_major": 2,
       "version_minor": 0
      },
      "text/plain": [
       "Figure(layout=FigureLayout(height='420px'))"
      ]
     },
     "metadata": {},
     "output_type": "display_data"
    }
   ],
   "source": [
    "# Latitude & longitude pairs for the selected cities:\n",
    "Ciranjang = (-6.79,107.28)\n",
    "Bambanglipuro = (-7.95,110.28)\n",
    "Boyolangu = (-8.12,111.89)\n",
    "Malang = (-7.98,112.63)\n",
    "\n",
    "fig = gmaps.figure()\n",
    "\n",
    "Malang2Ciranjang_via_Boyolangu_Bambanglipurol = gmaps.directions_layer(Malang, Ciranjang, \n",
    "                                          waypoints=[Boyolangu, Bambanglipuro], \n",
    "                                          travel_mode='DRIVING')\n",
    "fig.add_layer(Malang2Ciranjang_via_Boyolangu_Bambanglipurol)\n",
    "fig"
   ]
  },
  {
   "cell_type": "code",
   "execution_count": 24,
   "metadata": {},
   "outputs": [],
   "source": [
    "# Create information pop up box for hotels:\n",
    "info_box_template = \"\"\"\n",
    "<dl>\n",
    "<dt>Hotel Name</dt><dd>{Hotel Name}</dd>\n",
    "<dt>City</dt><dd>{City}</dd>\n",
    "<dt>Country</dt><dd>{Country}</dd>\n",
    "<dt>Current Weather</dt><dd>{Current Description}</dd>\n",
    "<dt>Max Temp</dt><dd>{Max Temp} °F</dd>\n",
    "</dl>\n",
    "\"\"\"\n",
    "\n",
    "# Store the DataFrame Row.\n",
    "hotel_info = [info_box_template.format(**row) for index, row in chosen_cities.iterrows()]"
   ]
  },
  {
   "cell_type": "code",
   "execution_count": 38,
   "metadata": {
    "scrolled": true
   },
   "outputs": [
    {
     "data": {
      "application/vnd.jupyter.widget-view+json": {
       "model_id": "f08a936bcc3a414d9f08ba17d6f42733",
       "version_major": 2,
       "version_minor": 0
      },
      "text/plain": [
       "Figure(layout=FigureLayout(height='420px'))"
      ]
     },
     "metadata": {},
     "output_type": "display_data"
    }
   ],
   "source": [
    "# Add a heatmap of preferred locations for the vacation spots\n",
    "\n",
    "locations = chosen_cities[[\"Lat\", \"Lng\"]]\n",
    "\n",
    "fig = gmaps.figure(center=(-7.50, 110.00), zoom_level=7.2)\n",
    "\n",
    "marker_layer = gmaps.marker_layer(locations, \n",
    "                                  info_box_content=hotel_info)\n",
    "fig.add_layer(marker_layer)\n",
    "\n",
    "# Call the figure to plot the data.\n",
    "fig"
   ]
  },
  {
   "cell_type": "code",
   "execution_count": null,
   "metadata": {},
   "outputs": [],
   "source": []
  }
 ],
 "metadata": {
  "kernelspec": {
   "display_name": "PythonData",
   "language": "python",
   "name": "pythondata"
  },
  "language_info": {
   "codemirror_mode": {
    "name": "ipython",
    "version": 3
   },
   "file_extension": ".py",
   "mimetype": "text/x-python",
   "name": "python",
   "nbconvert_exporter": "python",
   "pygments_lexer": "ipython3",
   "version": "3.7.7"
  }
 },
 "nbformat": 4,
 "nbformat_minor": 4
}
